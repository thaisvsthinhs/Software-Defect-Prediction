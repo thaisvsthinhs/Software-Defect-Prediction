{
 "cells": [
  {
   "cell_type": "code",
   "execution_count": null,
   "metadata": {},
   "outputs": [],
   "source": [
    "pip install tensorflow keras scikit-learn pandas\n"
   ]
  },
  {
   "cell_type": "code",
   "execution_count": null,
   "metadata": {},
   "outputs": [],
   "source": [
    "import numpy as np\n",
    "import pandas as pd\n",
    "import ast\n",
    "\n",
    "from tensorflow.keras.models import Sequential\n",
    "from tensorflow.keras.layers import Input, Embedding, Conv1D, GlobalMaxPooling1D, Dense\n",
    "from tensorflow.keras.layers import Dense, Concatenate, Dropout\n",
    "from tensorflow.keras.models import Model\n",
    "from tensorflow.keras.optimizers import Adam\n",
    "from sklearn.model_selection import train_test_split\n",
    "from sklearn.metrics import precision_score, recall_score, f1_score\n",
    "import matplotlib.pyplot as plt\n"
   ]
  },
  {
   "cell_type": "code",
   "execution_count": null,
   "metadata": {},
   "outputs": [],
   "source": [
    "def load_and_preprocess_train(train_csv_path):\n",
    "    \"\"\"\n",
    "    Đọc file train.csv, chuyển đổi cột 'bug' thành nhãn 0 (clean) và 1 (buggy),\n",
    "    parse cột 'int_vector_fixed' (dạng chuỗi) thành list và tạo numpy array.\n",
    "    \"\"\"\n",
    "    df = pd.read_csv(train_csv_path)\n",
    "    df['label'] = df['bug'].apply(lambda x: 1 if x == 'buggy' else 0)\n",
    "    df['int_vector_fixed'] = df['int_vector_fixed'].apply(lambda x: ast.literal_eval(x))\n",
    "    X = np.array(df['int_vector_fixed'].tolist())\n",
    "    y = df['label'].values\n",
    "    return X, y\n",
    "\n",
    "def load_and_preprocess_test(test_csv_path):\n",
    "    \"\"\"\n",
    "    Đọc file test.csv, parse cột 'int_vector_fixed' thành list và tạo numpy array.\n",
    "    Nếu test.csv có cột 'bug' (nhãn), chuyển đổi tương tự.\n",
    "    \"\"\"\n",
    "    df = pd.read_csv(test_csv_path)\n",
    "    df['label'] = df['bug'].apply(lambda x: 1 if x == 'buggy' else 0)\n",
    "\n",
    "    df['int_vector_fixed'] = df['int_vector_fixed'].apply(lambda x: ast.literal_eval(x))\n",
    "    X = np.array(df['int_vector_fixed'].tolist())\n",
    "    y = df['label'].values\n",
    "    return X, y"
   ]
  },
  {
   "cell_type": "code",
   "execution_count": 39,
   "metadata": {},
   "outputs": [
    {
     "data": {
      "text/plain": [
       "array([[ 379, 1576, 1899, ...,    0,    0,    0],\n",
       "       [ 342, 2640,  440, ...,    0,    0,    0],\n",
       "       [  73,  509, 2398, ...,    0,    0,    0],\n",
       "       ...,\n",
       "       [ 517,  911,    3, ...,    0,    0,    0],\n",
       "       [ 412,    3, 2417, ...,    0,    0,    0],\n",
       "       [  22, 1439,  231, ..., 1685,    0,    0]])"
      ]
     },
     "execution_count": 39,
     "metadata": {},
     "output_type": "execute_result"
    }
   ],
   "source": [
    "train_csv_path = r\"C:\\Users\\Acer\\Desktop\\2024\\lab\\DP-CNN\\train.csv\"\n",
    "ant_csv = r\"C:\\Users\\Acer\\Desktop\\2024\\lab\\DP-CNN\\ant-1.6.csv\"\n",
    "\n",
    "X, y = load_and_preprocess_train(train_csv_path)\n",
    "X"
   ]
  },
  {
   "cell_type": "code",
   "execution_count": null,
   "metadata": {},
   "outputs": [],
   "source": [
    "def build_cnn_concat_model(max_len, vocab_size, num_trad_features, embedding_dim=30):\n",
    "    \"\"\"\n",
    "    1) input_tokens (chuỗi ID) -> Embedding -> Conv1D -> GlobalMaxPooling1D -> Dense\n",
    "    2) input_trad (các cột wmc, noc, cbo, …)\n",
    "    Sau đó concat và đưa qua lớp Dense cuối với activation='sigmoid'.\n",
    "    \"\"\"\n",
    "    input_tokens = Input(shape=(max_len,), name=\"input_tokens\")\n",
    "    x = Embedding(input_dim=vocab_size, output_dim=embedding_dim, input_length=max_len)(input_tokens)\n",
    "    x = Conv1D(filters=100, kernel_size=5, activation='relu')(x)\n",
    "    x = GlobalMaxPooling1D()(x)\n",
    "    x = Dense(64, activation='relu')(x)\n",
    "    \n",
    "    input_trad = Input(shape=(num_trad_features,), name=\"input_trad\")    \n",
    "    merged = Concatenate()([x, input_trad])\n",
    "    merged = Dense(64, activation='relu')(merged)\n",
    "    output = Dense(1, activation='sigmoid')(merged)\n",
    "    \n",
    "    model = Model(inputs=[input_tokens, input_trad], outputs=output)\n",
    "    model.compile(loss='binary_crossentropy', optimizer=Adam(1e-3), metrics=['accuracy'])\n",
    "    return model\n"
   ]
  },
  {
   "cell_type": "code",
   "execution_count": null,
   "metadata": {},
   "outputs": [
    {
     "name": "stdout",
     "output_type": "stream",
     "text": [
      "Epoch 1/10\n",
      "12/12 [==============================] - 1s 32ms/step - loss: 4.4453 - accuracy: 0.4504 - val_loss: 3.2401 - val_accuracy: 0.4719\n",
      "Epoch 2/10\n",
      "12/12 [==============================] - 0s 20ms/step - loss: 2.3715 - accuracy: 0.5949 - val_loss: 1.5436 - val_accuracy: 0.6517\n",
      "Epoch 3/10\n",
      "12/12 [==============================] - 0s 17ms/step - loss: 1.4753 - accuracy: 0.7082 - val_loss: 1.1953 - val_accuracy: 0.6854\n",
      "Epoch 4/10\n",
      "12/12 [==============================] - 0s 15ms/step - loss: 1.1686 - accuracy: 0.7167 - val_loss: 0.9414 - val_accuracy: 0.6966\n",
      "Epoch 5/10\n",
      "12/12 [==============================] - 0s 18ms/step - loss: 0.8978 - accuracy: 0.7649 - val_loss: 1.0534 - val_accuracy: 0.6292\n",
      "Epoch 6/10\n",
      "12/12 [==============================] - 0s 21ms/step - loss: 0.7522 - accuracy: 0.7762 - val_loss: 0.8095 - val_accuracy: 0.7079\n",
      "Epoch 7/10\n",
      "12/12 [==============================] - 0s 23ms/step - loss: 0.5816 - accuracy: 0.7989 - val_loss: 0.6647 - val_accuracy: 0.6854\n",
      "Epoch 8/10\n",
      "12/12 [==============================] - 0s 18ms/step - loss: 0.5227 - accuracy: 0.8130 - val_loss: 0.6283 - val_accuracy: 0.7079\n",
      "Epoch 9/10\n",
      "12/12 [==============================] - 0s 14ms/step - loss: 0.3837 - accuracy: 0.8470 - val_loss: 0.4338 - val_accuracy: 0.7753\n",
      "Epoch 10/10\n",
      "12/12 [==============================] - 0s 12ms/step - loss: 0.2774 - accuracy: 0.9122 - val_loss: 0.3988 - val_accuracy: 0.7865\n",
      "3/3 [==============================] - 0s 4ms/step\n",
      "Validation: Precision=0.7714, Recall=0.7105, F1=0.7397\n",
      "24/24 [==============================] - 0s 2ms/step\n",
      "Test: Precision=0.5641, Recall=0.5301, F1=0.5466\n"
     ]
    }
   ],
   "source": [
    "train_csv_path = r\"C:\\Users\\Acer\\Desktop\\2024\\lab\\DP-CNN\\train.csv\"\n",
    "test_csv_path  = r\"C:\\Users\\Acer\\Desktop\\2024\\lab\\DP-CNN\\test.csv\"\n",
    "\n",
    "\n",
    "trad_csv_path = r\"C:\\Users\\Acer\\Desktop\\2024\\lab\\DP-CNN\\trad_feature1.6.csv\"\n",
    "trad_test_csv_path = r\"C:\\Users\\Acer\\Desktop\\2024\\lab\\DP-CNN\\trad_feature1.7.csv\"\n",
    "\n",
    "X_tokens_train, y_train = load_and_preprocess_train(train_csv_path)\n",
    "\n",
    "df_train = pd.read_csv(train_csv_path)\n",
    "\n",
    "df_trad_train = pd.read_csv(trad_csv_path)\n",
    "\n",
    "df_merged_train = pd.merge(df_train, df_trad_train, on='name', how='inner')\n",
    "\n",
    "trad_cols = ['wmc','noc','cbo','rfc','lcom','ca','ce','npm','loc','dam','moa','mfa','cam','ic','cbm','amc','max_cc','avg_cc']\n",
    "trad_cols = [c for c in trad_cols if c in df_merged_train.columns]\n",
    "\n",
    "X_trad_train = df_merged_train[trad_cols].values\n",
    "\n",
    "\n",
    "df_merged_train['int_vector_fixed'] = df_merged_train['int_vector_fixed'].apply(lambda x: ast.literal_eval(x))\n",
    "X_tokens_train = np.array(df_merged_train['int_vector_fixed'].tolist())\n",
    "y_train = df_merged_train['bug'].apply(lambda x: 1 if x == 'buggy' else 0).values\n",
    "\n",
    "max_len = X_tokens_train.shape[1]\n",
    "vocab_size = int(X_tokens_train.max()) + 1\n",
    "num_trad_features = len(trad_cols)\n",
    "\n",
    "X_tok_tr, X_tok_val, X_trad_tr, X_trad_val, y_tr, y_val = train_test_split(\n",
    "    X_tokens_train, X_trad_train, y_train, test_size=0.2, random_state=42\n",
    ")\n",
    "\n",
    "model = build_cnn_concat_model(max_len, vocab_size, num_trad_features, embedding_dim=30)\n",
    "\n",
    "history = model.fit(\n",
    "    [X_tok_tr, X_trad_tr], y_tr,\n",
    "    validation_data=([X_tok_val, X_trad_val], y_val),\n",
    "    epochs=10, batch_size=32\n",
    ")\n",
    "\n",
    "y_val_pred_prob = model.predict([X_tok_val, X_trad_val])\n",
    "y_val_pred = (y_val_pred_prob >= 0.5).astype(int)\n",
    "prec = precision_score(y_val, y_val_pred)\n",
    "rec = recall_score(y_val, y_val_pred)\n",
    "f1 = f1_score(y_val, y_val_pred)\n",
    "print(f\"Validation: Precision={prec:.4f}, Recall={rec:.4f}, F1={f1:.4f}\")\n",
    "\n",
    "X_tokens_test, y_test = load_and_preprocess_test(test_csv_path)\n",
    "df_test = pd.read_csv(test_csv_path)\n",
    "df_trad_test = pd.read_csv(trad_test_csv_path)\n",
    "df_merged_test = pd.merge(df_test, df_trad_test, on='name', how='inner')\n",
    "\n",
    "df_merged_test['int_vector_fixed'] = df_merged_test['int_vector_fixed'].apply(lambda x: ast.literal_eval(x))\n",
    "X_tokens_test = np.array(df_merged_test['int_vector_fixed'].tolist())\n",
    "y_test = df_merged_test['bug'].apply(lambda x: 1 if x == 'buggy' else 0).values\n",
    "X_trad_test = df_merged_test[trad_cols].values\n",
    "\n",
    "y_test_pred_prob = model.predict([X_tokens_test, X_trad_test])\n",
    "y_test_pred = (y_test_pred_prob >= 0.5).astype(int)\n",
    "\n",
    "prec_test = precision_score(y_test, y_test_pred)\n",
    "rec_test = recall_score(y_test, y_test_pred)\n",
    "f1_test = f1_score(y_test, y_test_pred)\n",
    "print(f\"Test: Precision={prec_test:.4f}, Recall={rec_test:.4f}, F1={f1_test:.4f}\")"
   ]
  },
  {
   "cell_type": "code",
   "execution_count": 60,
   "metadata": {},
   "outputs": [
    {
     "data": {
      "image/png": "[encoded data removed]",
      "text/plain": [
       "<Figure size 800x600 with 1 Axes>"
      ]
     },
     "metadata": {},
     "output_type": "display_data"
    }
   ],
   "source": [
    "plt.figure(figsize=(8, 6))\n",
    "plt.plot(history.history['loss'], label='Train Loss')\n",
    "plt.plot(history.history['val_loss'], label='Validation Loss')\n",
    "plt.title('Model Loss')\n",
    "plt.xlabel('Epoch')\n",
    "plt.ylabel('Loss')\n",
    "plt.legend()\n",
    "plt.grid(True)\n",
    "plt.show()"
   ]
  }
 ],
 "metadata": {
  "kernelspec": {
   "display_name": "Python 3 (ipykernel)",
   "language": "python",
   "name": "python3"
  },
  "language_info": {
   "codemirror_mode": {
    "name": "ipython",
    "version": 3
   },
   "file_extension": ".py",
   "mimetype": "text/x-python",
   "name": "python",
   "nbconvert_exporter": "python",
   "pygments_lexer": "ipython3",
   "version": "3.10.11"
  }
 },
 "nbformat": 4,
 "nbformat_minor": 2
}
